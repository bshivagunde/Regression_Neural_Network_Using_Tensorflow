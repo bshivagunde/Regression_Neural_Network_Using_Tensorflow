{
  "cells": [
    {
      "cell_type": "code",
      "execution_count": 1,
      "id": "911dae06-d967-45e5-afde-ff00761e6f52",
      "metadata": {
        "id": "911dae06-d967-45e5-afde-ff00761e6f52"
      },
      "outputs": [],
      "source": [
        "import tensorflow as tf\n",
        "import pandas as pd\n",
        "import numpy as np\n",
        "from sklearn.preprocessing import StandardScaler\n",
        "from sklearn.metrics import accuracy_score"
      ]
    },
    {
      "cell_type": "markdown",
      "id": "09133cf8-90f1-4695-a669-fb05f8501f4d",
      "metadata": {
        "id": "09133cf8-90f1-4695-a669-fb05f8501f4d"
      },
      "source": [
        "### Part 1: Import the Housing data and do feature transformations"
      ]
    },
    {
      "cell_type": "code",
      "execution_count": 2,
      "id": "f7efcf68-b2ca-4cb8-8c11-490ca1a745d5",
      "metadata": {
        "colab": {
          "base_uri": "https://localhost:8080/",
          "height": 206
        },
        "id": "f7efcf68-b2ca-4cb8-8c11-490ca1a745d5",
        "outputId": "c4e868c8-618f-426a-dc4b-323e7243b00d"
      },
      "outputs": [
        {
          "output_type": "execute_result",
          "data": {
            "text/plain": [
              "   bedrooms  sqft_living    price\n",
              "0         3         1340   313000\n",
              "1         5         3650  2384000\n",
              "2         3         1930   342000\n",
              "3         3         2000   420000\n",
              "4         4         1940   550000"
            ],
            "text/html": [
              "\n",
              "  <div id=\"df-f8cbb9dc-580d-46a3-81ac-20381427db93\" class=\"colab-df-container\">\n",
              "    <div>\n",
              "<style scoped>\n",
              "    .dataframe tbody tr th:only-of-type {\n",
              "        vertical-align: middle;\n",
              "    }\n",
              "\n",
              "    .dataframe tbody tr th {\n",
              "        vertical-align: top;\n",
              "    }\n",
              "\n",
              "    .dataframe thead th {\n",
              "        text-align: right;\n",
              "    }\n",
              "</style>\n",
              "<table border=\"1\" class=\"dataframe\">\n",
              "  <thead>\n",
              "    <tr style=\"text-align: right;\">\n",
              "      <th></th>\n",
              "      <th>bedrooms</th>\n",
              "      <th>sqft_living</th>\n",
              "      <th>price</th>\n",
              "    </tr>\n",
              "  </thead>\n",
              "  <tbody>\n",
              "    <tr>\n",
              "      <th>0</th>\n",
              "      <td>3</td>\n",
              "      <td>1340</td>\n",
              "      <td>313000</td>\n",
              "    </tr>\n",
              "    <tr>\n",
              "      <th>1</th>\n",
              "      <td>5</td>\n",
              "      <td>3650</td>\n",
              "      <td>2384000</td>\n",
              "    </tr>\n",
              "    <tr>\n",
              "      <th>2</th>\n",
              "      <td>3</td>\n",
              "      <td>1930</td>\n",
              "      <td>342000</td>\n",
              "    </tr>\n",
              "    <tr>\n",
              "      <th>3</th>\n",
              "      <td>3</td>\n",
              "      <td>2000</td>\n",
              "      <td>420000</td>\n",
              "    </tr>\n",
              "    <tr>\n",
              "      <th>4</th>\n",
              "      <td>4</td>\n",
              "      <td>1940</td>\n",
              "      <td>550000</td>\n",
              "    </tr>\n",
              "  </tbody>\n",
              "</table>\n",
              "</div>\n",
              "    <div class=\"colab-df-buttons\">\n",
              "\n",
              "  <div class=\"colab-df-container\">\n",
              "    <button class=\"colab-df-convert\" onclick=\"convertToInteractive('df-f8cbb9dc-580d-46a3-81ac-20381427db93')\"\n",
              "            title=\"Convert this dataframe to an interactive table.\"\n",
              "            style=\"display:none;\">\n",
              "\n",
              "  <svg xmlns=\"http://www.w3.org/2000/svg\" height=\"24px\" viewBox=\"0 -960 960 960\">\n",
              "    <path d=\"M120-120v-720h720v720H120Zm60-500h600v-160H180v160Zm220 220h160v-160H400v160Zm0 220h160v-160H400v160ZM180-400h160v-160H180v160Zm440 0h160v-160H620v160ZM180-180h160v-160H180v160Zm440 0h160v-160H620v160Z\"/>\n",
              "  </svg>\n",
              "    </button>\n",
              "\n",
              "  <style>\n",
              "    .colab-df-container {\n",
              "      display:flex;\n",
              "      gap: 12px;\n",
              "    }\n",
              "\n",
              "    .colab-df-convert {\n",
              "      background-color: #E8F0FE;\n",
              "      border: none;\n",
              "      border-radius: 50%;\n",
              "      cursor: pointer;\n",
              "      display: none;\n",
              "      fill: #1967D2;\n",
              "      height: 32px;\n",
              "      padding: 0 0 0 0;\n",
              "      width: 32px;\n",
              "    }\n",
              "\n",
              "    .colab-df-convert:hover {\n",
              "      background-color: #E2EBFA;\n",
              "      box-shadow: 0px 1px 2px rgba(60, 64, 67, 0.3), 0px 1px 3px 1px rgba(60, 64, 67, 0.15);\n",
              "      fill: #174EA6;\n",
              "    }\n",
              "\n",
              "    .colab-df-buttons div {\n",
              "      margin-bottom: 4px;\n",
              "    }\n",
              "\n",
              "    [theme=dark] .colab-df-convert {\n",
              "      background-color: #3B4455;\n",
              "      fill: #D2E3FC;\n",
              "    }\n",
              "\n",
              "    [theme=dark] .colab-df-convert:hover {\n",
              "      background-color: #434B5C;\n",
              "      box-shadow: 0px 1px 3px 1px rgba(0, 0, 0, 0.15);\n",
              "      filter: drop-shadow(0px 1px 2px rgba(0, 0, 0, 0.3));\n",
              "      fill: #FFFFFF;\n",
              "    }\n",
              "  </style>\n",
              "\n",
              "    <script>\n",
              "      const buttonEl =\n",
              "        document.querySelector('#df-f8cbb9dc-580d-46a3-81ac-20381427db93 button.colab-df-convert');\n",
              "      buttonEl.style.display =\n",
              "        google.colab.kernel.accessAllowed ? 'block' : 'none';\n",
              "\n",
              "      async function convertToInteractive(key) {\n",
              "        const element = document.querySelector('#df-f8cbb9dc-580d-46a3-81ac-20381427db93');\n",
              "        const dataTable =\n",
              "          await google.colab.kernel.invokeFunction('convertToInteractive',\n",
              "                                                    [key], {});\n",
              "        if (!dataTable) return;\n",
              "\n",
              "        const docLinkHtml = 'Like what you see? Visit the ' +\n",
              "          '<a target=\"_blank\" href=https://colab.research.google.com/notebooks/data_table.ipynb>data table notebook</a>'\n",
              "          + ' to learn more about interactive tables.';\n",
              "        element.innerHTML = '';\n",
              "        dataTable['output_type'] = 'display_data';\n",
              "        await google.colab.output.renderOutput(dataTable, element);\n",
              "        const docLink = document.createElement('div');\n",
              "        docLink.innerHTML = docLinkHtml;\n",
              "        element.appendChild(docLink);\n",
              "      }\n",
              "    </script>\n",
              "  </div>\n",
              "\n",
              "\n",
              "<div id=\"df-2b50805b-89c0-45ab-8002-f5eeab1c848d\">\n",
              "  <button class=\"colab-df-quickchart\" onclick=\"quickchart('df-2b50805b-89c0-45ab-8002-f5eeab1c848d')\"\n",
              "            title=\"Suggest charts\"\n",
              "            style=\"display:none;\">\n",
              "\n",
              "<svg xmlns=\"http://www.w3.org/2000/svg\" height=\"24px\"viewBox=\"0 0 24 24\"\n",
              "     width=\"24px\">\n",
              "    <g>\n",
              "        <path d=\"M19 3H5c-1.1 0-2 .9-2 2v14c0 1.1.9 2 2 2h14c1.1 0 2-.9 2-2V5c0-1.1-.9-2-2-2zM9 17H7v-7h2v7zm4 0h-2V7h2v10zm4 0h-2v-4h2v4z\"/>\n",
              "    </g>\n",
              "</svg>\n",
              "  </button>\n",
              "\n",
              "<style>\n",
              "  .colab-df-quickchart {\n",
              "      --bg-color: #E8F0FE;\n",
              "      --fill-color: #1967D2;\n",
              "      --hover-bg-color: #E2EBFA;\n",
              "      --hover-fill-color: #174EA6;\n",
              "      --disabled-fill-color: #AAA;\n",
              "      --disabled-bg-color: #DDD;\n",
              "  }\n",
              "\n",
              "  [theme=dark] .colab-df-quickchart {\n",
              "      --bg-color: #3B4455;\n",
              "      --fill-color: #D2E3FC;\n",
              "      --hover-bg-color: #434B5C;\n",
              "      --hover-fill-color: #FFFFFF;\n",
              "      --disabled-bg-color: #3B4455;\n",
              "      --disabled-fill-color: #666;\n",
              "  }\n",
              "\n",
              "  .colab-df-quickchart {\n",
              "    background-color: var(--bg-color);\n",
              "    border: none;\n",
              "    border-radius: 50%;\n",
              "    cursor: pointer;\n",
              "    display: none;\n",
              "    fill: var(--fill-color);\n",
              "    height: 32px;\n",
              "    padding: 0;\n",
              "    width: 32px;\n",
              "  }\n",
              "\n",
              "  .colab-df-quickchart:hover {\n",
              "    background-color: var(--hover-bg-color);\n",
              "    box-shadow: 0 1px 2px rgba(60, 64, 67, 0.3), 0 1px 3px 1px rgba(60, 64, 67, 0.15);\n",
              "    fill: var(--button-hover-fill-color);\n",
              "  }\n",
              "\n",
              "  .colab-df-quickchart-complete:disabled,\n",
              "  .colab-df-quickchart-complete:disabled:hover {\n",
              "    background-color: var(--disabled-bg-color);\n",
              "    fill: var(--disabled-fill-color);\n",
              "    box-shadow: none;\n",
              "  }\n",
              "\n",
              "  .colab-df-spinner {\n",
              "    border: 2px solid var(--fill-color);\n",
              "    border-color: transparent;\n",
              "    border-bottom-color: var(--fill-color);\n",
              "    animation:\n",
              "      spin 1s steps(1) infinite;\n",
              "  }\n",
              "\n",
              "  @keyframes spin {\n",
              "    0% {\n",
              "      border-color: transparent;\n",
              "      border-bottom-color: var(--fill-color);\n",
              "      border-left-color: var(--fill-color);\n",
              "    }\n",
              "    20% {\n",
              "      border-color: transparent;\n",
              "      border-left-color: var(--fill-color);\n",
              "      border-top-color: var(--fill-color);\n",
              "    }\n",
              "    30% {\n",
              "      border-color: transparent;\n",
              "      border-left-color: var(--fill-color);\n",
              "      border-top-color: var(--fill-color);\n",
              "      border-right-color: var(--fill-color);\n",
              "    }\n",
              "    40% {\n",
              "      border-color: transparent;\n",
              "      border-right-color: var(--fill-color);\n",
              "      border-top-color: var(--fill-color);\n",
              "    }\n",
              "    60% {\n",
              "      border-color: transparent;\n",
              "      border-right-color: var(--fill-color);\n",
              "    }\n",
              "    80% {\n",
              "      border-color: transparent;\n",
              "      border-right-color: var(--fill-color);\n",
              "      border-bottom-color: var(--fill-color);\n",
              "    }\n",
              "    90% {\n",
              "      border-color: transparent;\n",
              "      border-bottom-color: var(--fill-color);\n",
              "    }\n",
              "  }\n",
              "</style>\n",
              "\n",
              "  <script>\n",
              "    async function quickchart(key) {\n",
              "      const quickchartButtonEl =\n",
              "        document.querySelector('#' + key + ' button');\n",
              "      quickchartButtonEl.disabled = true;  // To prevent multiple clicks.\n",
              "      quickchartButtonEl.classList.add('colab-df-spinner');\n",
              "      try {\n",
              "        const charts = await google.colab.kernel.invokeFunction(\n",
              "            'suggestCharts', [key], {});\n",
              "      } catch (error) {\n",
              "        console.error('Error during call to suggestCharts:', error);\n",
              "      }\n",
              "      quickchartButtonEl.classList.remove('colab-df-spinner');\n",
              "      quickchartButtonEl.classList.add('colab-df-quickchart-complete');\n",
              "    }\n",
              "    (() => {\n",
              "      let quickchartButtonEl =\n",
              "        document.querySelector('#df-2b50805b-89c0-45ab-8002-f5eeab1c848d button');\n",
              "      quickchartButtonEl.style.display =\n",
              "        google.colab.kernel.accessAllowed ? 'block' : 'none';\n",
              "    })();\n",
              "  </script>\n",
              "</div>\n",
              "\n",
              "    </div>\n",
              "  </div>\n"
            ]
          },
          "metadata": {},
          "execution_count": 2
        }
      ],
      "source": [
        "df= pd.read_csv('house_price_full.csv')\n",
        "df.head()"
      ]
    },
    {
      "cell_type": "code",
      "execution_count": 3,
      "id": "85fd63b2-defd-4ba3-b042-9afc73d18a99",
      "metadata": {
        "id": "85fd63b2-defd-4ba3-b042-9afc73d18a99"
      },
      "outputs": [],
      "source": [
        "X = df.copy()\n",
        "# Remove target\n",
        "Y = X.pop('price')\n",
        "\n",
        "# perform a scaler transform of the input data\n",
        "scaler = StandardScaler()\n",
        "X = scaler.fit_transform(X)\n",
        "\n",
        "# perform log transformation of target variable (For Sandeep: Is this needed?)\n",
        "Y = np.log(Y)"
      ]
    },
    {
      "cell_type": "code",
      "execution_count": 4,
      "id": "95196b58-d932-456a-aa16-f9763822259f",
      "metadata": {
        "colab": {
          "base_uri": "https://localhost:8080/",
          "height": 423
        },
        "id": "95196b58-d932-456a-aa16-f9763822259f",
        "outputId": "39b8ef18-aadf-4603-e11e-30194fe78fe6"
      },
      "outputs": [
        {
          "output_type": "execute_result",
          "data": {
            "text/plain": [
              "            0         1\n",
              "0   -0.433198 -0.753258\n",
              "1    1.675735  1.457330\n",
              "2   -0.433198 -0.188649\n",
              "3   -0.433198 -0.121661\n",
              "4    0.621269 -0.179079\n",
              "..        ...       ...\n",
              "494  0.621269  0.873582\n",
              "495  1.675735  2.299459\n",
              "496 -0.433198 -0.724549\n",
              "497 -0.433198 -0.179079\n",
              "498 -0.433198 -1.040347\n",
              "\n",
              "[499 rows x 2 columns]"
            ],
            "text/html": [
              "\n",
              "  <div id=\"df-ff8de54e-f650-4acd-a683-4070e33654cb\" class=\"colab-df-container\">\n",
              "    <div>\n",
              "<style scoped>\n",
              "    .dataframe tbody tr th:only-of-type {\n",
              "        vertical-align: middle;\n",
              "    }\n",
              "\n",
              "    .dataframe tbody tr th {\n",
              "        vertical-align: top;\n",
              "    }\n",
              "\n",
              "    .dataframe thead th {\n",
              "        text-align: right;\n",
              "    }\n",
              "</style>\n",
              "<table border=\"1\" class=\"dataframe\">\n",
              "  <thead>\n",
              "    <tr style=\"text-align: right;\">\n",
              "      <th></th>\n",
              "      <th>0</th>\n",
              "      <th>1</th>\n",
              "    </tr>\n",
              "  </thead>\n",
              "  <tbody>\n",
              "    <tr>\n",
              "      <th>0</th>\n",
              "      <td>-0.433198</td>\n",
              "      <td>-0.753258</td>\n",
              "    </tr>\n",
              "    <tr>\n",
              "      <th>1</th>\n",
              "      <td>1.675735</td>\n",
              "      <td>1.457330</td>\n",
              "    </tr>\n",
              "    <tr>\n",
              "      <th>2</th>\n",
              "      <td>-0.433198</td>\n",
              "      <td>-0.188649</td>\n",
              "    </tr>\n",
              "    <tr>\n",
              "      <th>3</th>\n",
              "      <td>-0.433198</td>\n",
              "      <td>-0.121661</td>\n",
              "    </tr>\n",
              "    <tr>\n",
              "      <th>4</th>\n",
              "      <td>0.621269</td>\n",
              "      <td>-0.179079</td>\n",
              "    </tr>\n",
              "    <tr>\n",
              "      <th>...</th>\n",
              "      <td>...</td>\n",
              "      <td>...</td>\n",
              "    </tr>\n",
              "    <tr>\n",
              "      <th>494</th>\n",
              "      <td>0.621269</td>\n",
              "      <td>0.873582</td>\n",
              "    </tr>\n",
              "    <tr>\n",
              "      <th>495</th>\n",
              "      <td>1.675735</td>\n",
              "      <td>2.299459</td>\n",
              "    </tr>\n",
              "    <tr>\n",
              "      <th>496</th>\n",
              "      <td>-0.433198</td>\n",
              "      <td>-0.724549</td>\n",
              "    </tr>\n",
              "    <tr>\n",
              "      <th>497</th>\n",
              "      <td>-0.433198</td>\n",
              "      <td>-0.179079</td>\n",
              "    </tr>\n",
              "    <tr>\n",
              "      <th>498</th>\n",
              "      <td>-0.433198</td>\n",
              "      <td>-1.040347</td>\n",
              "    </tr>\n",
              "  </tbody>\n",
              "</table>\n",
              "<p>499 rows × 2 columns</p>\n",
              "</div>\n",
              "    <div class=\"colab-df-buttons\">\n",
              "\n",
              "  <div class=\"colab-df-container\">\n",
              "    <button class=\"colab-df-convert\" onclick=\"convertToInteractive('df-ff8de54e-f650-4acd-a683-4070e33654cb')\"\n",
              "            title=\"Convert this dataframe to an interactive table.\"\n",
              "            style=\"display:none;\">\n",
              "\n",
              "  <svg xmlns=\"http://www.w3.org/2000/svg\" height=\"24px\" viewBox=\"0 -960 960 960\">\n",
              "    <path d=\"M120-120v-720h720v720H120Zm60-500h600v-160H180v160Zm220 220h160v-160H400v160Zm0 220h160v-160H400v160ZM180-400h160v-160H180v160Zm440 0h160v-160H620v160ZM180-180h160v-160H180v160Zm440 0h160v-160H620v160Z\"/>\n",
              "  </svg>\n",
              "    </button>\n",
              "\n",
              "  <style>\n",
              "    .colab-df-container {\n",
              "      display:flex;\n",
              "      gap: 12px;\n",
              "    }\n",
              "\n",
              "    .colab-df-convert {\n",
              "      background-color: #E8F0FE;\n",
              "      border: none;\n",
              "      border-radius: 50%;\n",
              "      cursor: pointer;\n",
              "      display: none;\n",
              "      fill: #1967D2;\n",
              "      height: 32px;\n",
              "      padding: 0 0 0 0;\n",
              "      width: 32px;\n",
              "    }\n",
              "\n",
              "    .colab-df-convert:hover {\n",
              "      background-color: #E2EBFA;\n",
              "      box-shadow: 0px 1px 2px rgba(60, 64, 67, 0.3), 0px 1px 3px 1px rgba(60, 64, 67, 0.15);\n",
              "      fill: #174EA6;\n",
              "    }\n",
              "\n",
              "    .colab-df-buttons div {\n",
              "      margin-bottom: 4px;\n",
              "    }\n",
              "\n",
              "    [theme=dark] .colab-df-convert {\n",
              "      background-color: #3B4455;\n",
              "      fill: #D2E3FC;\n",
              "    }\n",
              "\n",
              "    [theme=dark] .colab-df-convert:hover {\n",
              "      background-color: #434B5C;\n",
              "      box-shadow: 0px 1px 3px 1px rgba(0, 0, 0, 0.15);\n",
              "      filter: drop-shadow(0px 1px 2px rgba(0, 0, 0, 0.3));\n",
              "      fill: #FFFFFF;\n",
              "    }\n",
              "  </style>\n",
              "\n",
              "    <script>\n",
              "      const buttonEl =\n",
              "        document.querySelector('#df-ff8de54e-f650-4acd-a683-4070e33654cb button.colab-df-convert');\n",
              "      buttonEl.style.display =\n",
              "        google.colab.kernel.accessAllowed ? 'block' : 'none';\n",
              "\n",
              "      async function convertToInteractive(key) {\n",
              "        const element = document.querySelector('#df-ff8de54e-f650-4acd-a683-4070e33654cb');\n",
              "        const dataTable =\n",
              "          await google.colab.kernel.invokeFunction('convertToInteractive',\n",
              "                                                    [key], {});\n",
              "        if (!dataTable) return;\n",
              "\n",
              "        const docLinkHtml = 'Like what you see? Visit the ' +\n",
              "          '<a target=\"_blank\" href=https://colab.research.google.com/notebooks/data_table.ipynb>data table notebook</a>'\n",
              "          + ' to learn more about interactive tables.';\n",
              "        element.innerHTML = '';\n",
              "        dataTable['output_type'] = 'display_data';\n",
              "        await google.colab.output.renderOutput(dataTable, element);\n",
              "        const docLink = document.createElement('div');\n",
              "        docLink.innerHTML = docLinkHtml;\n",
              "        element.appendChild(docLink);\n",
              "      }\n",
              "    </script>\n",
              "  </div>\n",
              "\n",
              "\n",
              "<div id=\"df-01080636-1204-4ed8-96e4-0586a980f366\">\n",
              "  <button class=\"colab-df-quickchart\" onclick=\"quickchart('df-01080636-1204-4ed8-96e4-0586a980f366')\"\n",
              "            title=\"Suggest charts\"\n",
              "            style=\"display:none;\">\n",
              "\n",
              "<svg xmlns=\"http://www.w3.org/2000/svg\" height=\"24px\"viewBox=\"0 0 24 24\"\n",
              "     width=\"24px\">\n",
              "    <g>\n",
              "        <path d=\"M19 3H5c-1.1 0-2 .9-2 2v14c0 1.1.9 2 2 2h14c1.1 0 2-.9 2-2V5c0-1.1-.9-2-2-2zM9 17H7v-7h2v7zm4 0h-2V7h2v10zm4 0h-2v-4h2v4z\"/>\n",
              "    </g>\n",
              "</svg>\n",
              "  </button>\n",
              "\n",
              "<style>\n",
              "  .colab-df-quickchart {\n",
              "      --bg-color: #E8F0FE;\n",
              "      --fill-color: #1967D2;\n",
              "      --hover-bg-color: #E2EBFA;\n",
              "      --hover-fill-color: #174EA6;\n",
              "      --disabled-fill-color: #AAA;\n",
              "      --disabled-bg-color: #DDD;\n",
              "  }\n",
              "\n",
              "  [theme=dark] .colab-df-quickchart {\n",
              "      --bg-color: #3B4455;\n",
              "      --fill-color: #D2E3FC;\n",
              "      --hover-bg-color: #434B5C;\n",
              "      --hover-fill-color: #FFFFFF;\n",
              "      --disabled-bg-color: #3B4455;\n",
              "      --disabled-fill-color: #666;\n",
              "  }\n",
              "\n",
              "  .colab-df-quickchart {\n",
              "    background-color: var(--bg-color);\n",
              "    border: none;\n",
              "    border-radius: 50%;\n",
              "    cursor: pointer;\n",
              "    display: none;\n",
              "    fill: var(--fill-color);\n",
              "    height: 32px;\n",
              "    padding: 0;\n",
              "    width: 32px;\n",
              "  }\n",
              "\n",
              "  .colab-df-quickchart:hover {\n",
              "    background-color: var(--hover-bg-color);\n",
              "    box-shadow: 0 1px 2px rgba(60, 64, 67, 0.3), 0 1px 3px 1px rgba(60, 64, 67, 0.15);\n",
              "    fill: var(--button-hover-fill-color);\n",
              "  }\n",
              "\n",
              "  .colab-df-quickchart-complete:disabled,\n",
              "  .colab-df-quickchart-complete:disabled:hover {\n",
              "    background-color: var(--disabled-bg-color);\n",
              "    fill: var(--disabled-fill-color);\n",
              "    box-shadow: none;\n",
              "  }\n",
              "\n",
              "  .colab-df-spinner {\n",
              "    border: 2px solid var(--fill-color);\n",
              "    border-color: transparent;\n",
              "    border-bottom-color: var(--fill-color);\n",
              "    animation:\n",
              "      spin 1s steps(1) infinite;\n",
              "  }\n",
              "\n",
              "  @keyframes spin {\n",
              "    0% {\n",
              "      border-color: transparent;\n",
              "      border-bottom-color: var(--fill-color);\n",
              "      border-left-color: var(--fill-color);\n",
              "    }\n",
              "    20% {\n",
              "      border-color: transparent;\n",
              "      border-left-color: var(--fill-color);\n",
              "      border-top-color: var(--fill-color);\n",
              "    }\n",
              "    30% {\n",
              "      border-color: transparent;\n",
              "      border-left-color: var(--fill-color);\n",
              "      border-top-color: var(--fill-color);\n",
              "      border-right-color: var(--fill-color);\n",
              "    }\n",
              "    40% {\n",
              "      border-color: transparent;\n",
              "      border-right-color: var(--fill-color);\n",
              "      border-top-color: var(--fill-color);\n",
              "    }\n",
              "    60% {\n",
              "      border-color: transparent;\n",
              "      border-right-color: var(--fill-color);\n",
              "    }\n",
              "    80% {\n",
              "      border-color: transparent;\n",
              "      border-right-color: var(--fill-color);\n",
              "      border-bottom-color: var(--fill-color);\n",
              "    }\n",
              "    90% {\n",
              "      border-color: transparent;\n",
              "      border-bottom-color: var(--fill-color);\n",
              "    }\n",
              "  }\n",
              "</style>\n",
              "\n",
              "  <script>\n",
              "    async function quickchart(key) {\n",
              "      const quickchartButtonEl =\n",
              "        document.querySelector('#' + key + ' button');\n",
              "      quickchartButtonEl.disabled = true;  // To prevent multiple clicks.\n",
              "      quickchartButtonEl.classList.add('colab-df-spinner');\n",
              "      try {\n",
              "        const charts = await google.colab.kernel.invokeFunction(\n",
              "            'suggestCharts', [key], {});\n",
              "      } catch (error) {\n",
              "        console.error('Error during call to suggestCharts:', error);\n",
              "      }\n",
              "      quickchartButtonEl.classList.remove('colab-df-spinner');\n",
              "      quickchartButtonEl.classList.add('colab-df-quickchart-complete');\n",
              "    }\n",
              "    (() => {\n",
              "      let quickchartButtonEl =\n",
              "        document.querySelector('#df-01080636-1204-4ed8-96e4-0586a980f366 button');\n",
              "      quickchartButtonEl.style.display =\n",
              "        google.colab.kernel.accessAllowed ? 'block' : 'none';\n",
              "    })();\n",
              "  </script>\n",
              "</div>\n",
              "\n",
              "  <div id=\"id_eebc991c-2592-4c93-ab84-dc75b827a677\">\n",
              "    <style>\n",
              "      .colab-df-generate {\n",
              "        background-color: #E8F0FE;\n",
              "        border: none;\n",
              "        border-radius: 50%;\n",
              "        cursor: pointer;\n",
              "        display: none;\n",
              "        fill: #1967D2;\n",
              "        height: 32px;\n",
              "        padding: 0 0 0 0;\n",
              "        width: 32px;\n",
              "      }\n",
              "\n",
              "      .colab-df-generate:hover {\n",
              "        background-color: #E2EBFA;\n",
              "        box-shadow: 0px 1px 2px rgba(60, 64, 67, 0.3), 0px 1px 3px 1px rgba(60, 64, 67, 0.15);\n",
              "        fill: #174EA6;\n",
              "      }\n",
              "\n",
              "      [theme=dark] .colab-df-generate {\n",
              "        background-color: #3B4455;\n",
              "        fill: #D2E3FC;\n",
              "      }\n",
              "\n",
              "      [theme=dark] .colab-df-generate:hover {\n",
              "        background-color: #434B5C;\n",
              "        box-shadow: 0px 1px 3px 1px rgba(0, 0, 0, 0.15);\n",
              "        filter: drop-shadow(0px 1px 2px rgba(0, 0, 0, 0.3));\n",
              "        fill: #FFFFFF;\n",
              "      }\n",
              "    </style>\n",
              "    <button class=\"colab-df-generate\" onclick=\"generateWithVariable('df_scaled')\"\n",
              "            title=\"Generate code using this dataframe.\"\n",
              "            style=\"display:none;\">\n",
              "\n",
              "  <svg xmlns=\"http://www.w3.org/2000/svg\" height=\"24px\"viewBox=\"0 0 24 24\"\n",
              "       width=\"24px\">\n",
              "    <path d=\"M7,19H8.4L18.45,9,17,7.55,7,17.6ZM5,21V16.75L18.45,3.32a2,2,0,0,1,2.83,0l1.4,1.43a1.91,1.91,0,0,1,.58,1.4,1.91,1.91,0,0,1-.58,1.4L9.25,21ZM18.45,9,17,7.55Zm-12,3A5.31,5.31,0,0,0,4.9,8.1,5.31,5.31,0,0,0,1,6.5,5.31,5.31,0,0,0,4.9,4.9,5.31,5.31,0,0,0,6.5,1,5.31,5.31,0,0,0,8.1,4.9,5.31,5.31,0,0,0,12,6.5,5.46,5.46,0,0,0,6.5,12Z\"/>\n",
              "  </svg>\n",
              "    </button>\n",
              "    <script>\n",
              "      (() => {\n",
              "      const buttonEl =\n",
              "        document.querySelector('#id_eebc991c-2592-4c93-ab84-dc75b827a677 button.colab-df-generate');\n",
              "      buttonEl.style.display =\n",
              "        google.colab.kernel.accessAllowed ? 'block' : 'none';\n",
              "\n",
              "      buttonEl.onclick = () => {\n",
              "        google.colab.notebook.generateWithVariable('df_scaled');\n",
              "      }\n",
              "      })();\n",
              "    </script>\n",
              "  </div>\n",
              "\n",
              "    </div>\n",
              "  </div>\n"
            ]
          },
          "metadata": {},
          "execution_count": 4
        }
      ],
      "source": [
        "df_scaled = pd.DataFrame(X)\n",
        "df_scaled"
      ]
    },
    {
      "cell_type": "code",
      "execution_count": 5,
      "id": "4059a87f-e14b-462c-8fc2-0d8171cea2cc",
      "metadata": {
        "colab": {
          "base_uri": "https://localhost:8080/"
        },
        "id": "4059a87f-e14b-462c-8fc2-0d8171cea2cc",
        "outputId": "b387ff0b-4422-4620-fb01-f3b30966ffa1"
      },
      "outputs": [
        {
          "output_type": "execute_result",
          "data": {
            "text/plain": [
              "0      12.653958\n",
              "1      14.684290\n",
              "2      12.742566\n",
              "3      12.948010\n",
              "4      13.217674\n",
              "         ...    \n",
              "494    13.380102\n",
              "495    13.764217\n",
              "496    12.128111\n",
              "497    12.721886\n",
              "498    12.254863\n",
              "Name: price, Length: 499, dtype: float64"
            ]
          },
          "metadata": {},
          "execution_count": 5
        }
      ],
      "source": [
        "Y"
      ]
    },
    {
      "cell_type": "code",
      "execution_count": 6,
      "id": "7c6c4da9-aa2b-46a2-acaa-cb900ac2b024",
      "metadata": {
        "id": "7c6c4da9-aa2b-46a2-acaa-cb900ac2b024"
      },
      "outputs": [],
      "source": [
        "#Taking 1 sample: x0,x1\n",
        "x1, x2 = df_scaled.iloc[0]"
      ]
    },
    {
      "cell_type": "code",
      "execution_count": 7,
      "id": "bd37b5c7-9e4c-4919-ba3a-3718132eddf2",
      "metadata": {
        "colab": {
          "base_uri": "https://localhost:8080/"
        },
        "id": "bd37b5c7-9e4c-4919-ba3a-3718132eddf2",
        "outputId": "eecb81a1-102b-4992-b5da-556d7ad1216b"
      },
      "outputs": [
        {
          "output_type": "execute_result",
          "data": {
            "text/plain": [
              "<tf.Tensor: shape=(1, 2), dtype=float32, numpy=array([[-0.43319765, -0.7532575 ]], dtype=float32)>"
            ]
          },
          "metadata": {},
          "execution_count": 7
        }
      ],
      "source": [
        "x = tf.constant([[x1,x2]], dtype=tf.float32)\n",
        "x"
      ]
    },
    {
      "cell_type": "markdown",
      "id": "c919a12a-a45a-4cdb-b359-f75127de1f0b",
      "metadata": {
        "id": "c919a12a-a45a-4cdb-b359-f75127de1f0b"
      },
      "source": [
        "### Part2: Forward Propagation with a single Neuron\n",
        "\n",
        "The simplest way to describe a neural network is that we have some inputs , which get combined into an auxilliary variable . The auxilliary variable is passed through the activation function  and the result is the output.\n",
        "\n",
        "Here is another image showing each step.\n",
        "![](neuron.png)\n",
        "Notice that the inputs are linearly combined according to some weights  and a bias . This transformation is also sometimes called an affine transformation. The perceptron transforms the weighted inputs according to the rule of the activation function. For a single perceptron, the output  is just the output from the perceptron. The linear transformation and activation of the neuron occurs within a single layer of the network (shown in the dotted box).\n",
        "\n",
        "Let's see what the single-layer, single neuron network give us. We have a couple of choices to make:\n",
        "\n",
        "We must choose some weights and some biases\n",
        "We must choose an activation function\n",
        "For now, we will manually specify the weights and biases.\n",
        "\n",
        "We choose a sigmoid activation function"
      ]
    },
    {
      "cell_type": "code",
      "execution_count": 8,
      "id": "d22f12ae-177d-43ba-8afa-62e62afe6bb0",
      "metadata": {
        "id": "d22f12ae-177d-43ba-8afa-62e62afe6bb0"
      },
      "outputs": [],
      "source": [
        "#weights\n",
        "w1 = tf.Variable([0.2], dtype=tf.float32)\n",
        "w2 = tf.Variable([0.15], dtype=tf.float32)\n",
        "#bias\n",
        "b = tf.Variable([0.1], dtype=tf.float32)"
      ]
    },
    {
      "cell_type": "code",
      "execution_count": 9,
      "id": "f2e7b9c3-4f70-46dc-a6bc-b75a83803e67",
      "metadata": {
        "colab": {
          "base_uri": "https://localhost:8080/"
        },
        "id": "f2e7b9c3-4f70-46dc-a6bc-b75a83803e67",
        "outputId": "2723a274-77de-4c22-fa6f-178f4889fdbf"
      },
      "outputs": [
        {
          "output_type": "stream",
          "name": "stdout",
          "text": [
            "The output from the first neuron is tf.Tensor([0.47511354], shape=(1,), dtype=float32)\n"
          ]
        }
      ],
      "source": [
        "#Cumulative input\n",
        "z = b + w1*x1 +w2*x2\n",
        "h = tf.math.sigmoid(z)\n",
        "print(\"The output from the first neuron is\",h)"
      ]
    },
    {
      "cell_type": "markdown",
      "id": "a34f3985-fe07-439f-a6ef-4b6ffbba1f1c",
      "metadata": {
        "id": "a34f3985-fe07-439f-a6ef-4b6ffbba1f1c"
      },
      "source": [
        "### Part3: Forward Propagation with multiple neurons\n",
        "\n",
        "![](multiple_neurons.png)"
      ]
    },
    {
      "cell_type": "code",
      "execution_count": 10,
      "id": "a708032a-8898-4c75-8a6b-19708e5db798",
      "metadata": {
        "id": "a708032a-8898-4c75-8a6b-19708e5db798"
      },
      "outputs": [],
      "source": [
        "## layer1 weights\n",
        "# neuron1\n",
        "b1 = tf.Variable([0.1])\n",
        "w11 = tf.Variable([0.2])\n",
        "w12 = tf.Variable([0.15])\n",
        "#neuron2\n",
        "b2 = tf.Variable([0.25])\n",
        "w21 = tf.Variable([0.5])\n",
        "w22 = tf.Variable([0.6])\n"
      ]
    },
    {
      "cell_type": "code",
      "execution_count": 11,
      "id": "df953e00-859b-4559-94c9-9ac7b128fa5c",
      "metadata": {
        "colab": {
          "base_uri": "https://localhost:8080/"
        },
        "id": "df953e00-859b-4559-94c9-9ac7b128fa5c",
        "outputId": "0cd026e8-3f99-4494-8d5d-6d9a5fde17b6"
      },
      "outputs": [
        {
          "output_type": "stream",
          "name": "stdout",
          "text": [
            "The output from the first neuron is tf.Tensor([0.47511354], shape=(1,), dtype=float32)\n"
          ]
        }
      ],
      "source": [
        "## forward pass\n",
        "# neuron 1\n",
        "z1 = b1+w11*x1+w12*x2\n",
        "h1 = tf.math.sigmoid(z1)\n",
        "print(\"The output from the first neuron is\",h1)"
      ]
    },
    {
      "cell_type": "code",
      "execution_count": 12,
      "id": "383503a1-fdcf-4f53-a0ee-03077dd6f5ca",
      "metadata": {
        "colab": {
          "base_uri": "https://localhost:8080/"
        },
        "id": "383503a1-fdcf-4f53-a0ee-03077dd6f5ca",
        "outputId": "c51b901c-8a38-4229-f6ca-cd567ad8b978"
      },
      "outputs": [
        {
          "output_type": "stream",
          "name": "stdout",
          "text": [
            "The output from the second neuron is tf.Tensor([0.39686295], shape=(1,), dtype=float32)\n"
          ]
        }
      ],
      "source": [
        "## forward pass\n",
        "# neuron 2\n",
        "z2 = b2+w21*x1+w22*x2\n",
        "h2 = tf.math.sigmoid(z2)\n",
        "print(\"The output from the second neuron is\",h2)"
      ]
    },
    {
      "cell_type": "code",
      "execution_count": 13,
      "id": "3156f647-fd4f-4f6a-aa6c-158dfd7f1e8b",
      "metadata": {
        "id": "3156f647-fd4f-4f6a-aa6c-158dfd7f1e8b"
      },
      "outputs": [],
      "source": [
        "## layer2 weights\n",
        "b1 = tf.Variable([0.4])\n",
        "w11 = tf.Variable([0.3])\n",
        "w12 = tf.Variable([0.2])"
      ]
    },
    {
      "cell_type": "code",
      "execution_count": 14,
      "id": "81be3f6c-a1bd-42d3-9576-c325f90804b4",
      "metadata": {
        "colab": {
          "base_uri": "https://localhost:8080/"
        },
        "id": "81be3f6c-a1bd-42d3-9576-c325f90804b4",
        "outputId": "6be7aa5f-3564-4364-e24a-dcada6687c06"
      },
      "outputs": [
        {
          "output_type": "stream",
          "name": "stdout",
          "text": [
            "The output from the first neuron is tf.Tensor([0.62190664], shape=(1,), dtype=float32)\n"
          ]
        }
      ],
      "source": [
        "## forward pass\n",
        "# second layer\n",
        "z1 = b1+w11*h1+w12*h2\n",
        "h1 = z1\n",
        "print(\"The output from the first neuron is\",h1)"
      ]
    },
    {
      "cell_type": "code",
      "execution_count": 15,
      "id": "2668ce90-6f54-4f40-9bbe-ea6f0db4bff4",
      "metadata": {
        "id": "2668ce90-6f54-4f40-9bbe-ea6f0db4bff4"
      },
      "outputs": [],
      "source": [
        "y_true = Y[0]\n",
        "y_pred = h1.numpy()"
      ]
    },
    {
      "cell_type": "code",
      "execution_count": 16,
      "id": "320dc2df-3489-4cb8-aa27-3162426357ac",
      "metadata": {
        "colab": {
          "base_uri": "https://localhost:8080/"
        },
        "id": "320dc2df-3489-4cb8-aa27-3162426357ac",
        "outputId": "12a8dd91-b8c6-4c29-ff0c-fa7534dac526"
      },
      "outputs": [
        {
          "output_type": "stream",
          "name": "stdout",
          "text": [
            "The MSE error is [72.38514]\n"
          ]
        }
      ],
      "source": [
        "#loss\n",
        "L = 0.5*(y_true - y_pred)**2\n",
        "print(\"The MSE error is\",L)"
      ]
    },
    {
      "cell_type": "markdown",
      "id": "8442d282-5547-46e2-8a9d-d5769bb99dab",
      "metadata": {
        "id": "8442d282-5547-46e2-8a9d-d5769bb99dab"
      },
      "source": [
        "## Part 4: Forward pass matrix multiplication\n",
        "![](multiple_neurons.png)\n",
        "\n",
        "![](Matrix.gif)\n",
        "\n",
        "This network can be described as follows:\n",
        "\n",
        "- Input vector = $X = (x1,x2)$\n",
        "- Weight Matrix (hidden layer) = $$W^1 = \\begin{bmatrix}\n",
        "w^1_{11}&&w^1_{12}\\\\\n",
        "w^1_{21}&&w^1_{22}\\\\\n",
        "\\end{bmatrix}\n",
        "$$\n",
        "*note the subscripts are being mapped to weights in the figure\n",
        "\n",
        "- Bias/offset Matrix (hidden layer) = $$\n",
        "B^1_0 = \\begin{bmatrix}\n",
        "b^1_{1}\\\\\n",
        "b^1_{2}\\\\\n",
        "\\end{bmatrix}\n",
        "$$\n",
        "\n",
        "Now the forward pass for the hidden layer can be described as\n",
        "\n",
        "$$W^1 \\times X^T + B^1_0= Z^1 = \\begin{bmatrix}\n",
        "z^1_{1}\\\\\n",
        "z^1_{2}\\\\\n",
        "\\end{bmatrix}\n",
        "$$\n",
        "\n",
        "Applying the activation function $f$ over the matrix $Z$ will complete the forward pass.\n",
        "\n",
        "$$f(W^1 \\times X^T + B^1_0)= f(Z^1) = f(\\begin{bmatrix}\n",
        "z^1_{1}\\\\\n",
        "z^1_{2}\\\\\n",
        "\\end{bmatrix}) =\n",
        "\\begin{bmatrix}\n",
        "f(z^1_{1})\\\\\n",
        "f(z^1_{2})\\\\\n",
        "\\end{bmatrix}\n",
        "=\n",
        "\\begin{bmatrix}\n",
        "h^1_1\\\\\n",
        "h^1_2\\\\\n",
        "\\end{bmatrix}\n",
        "= H^1\n",
        "$$\n",
        "\n",
        "For the output layer:\n",
        "\n",
        "- The weight matrix is $$W^2 = \\begin{bmatrix}\n",
        "w^2_{11}&&w^2_{12}\\\\\n",
        "\\end{bmatrix}\n",
        "$$\n",
        "\n",
        "- The bias/offset matrix is $$B^2_0 = \\begin{bmatrix}\n",
        "b^2_{1}\\\\\n",
        "\\end{bmatrix}\n",
        "$$\n",
        "\n",
        "Now the forward pass can be written as:\n",
        "\n",
        "\n",
        "$$ B_0^2+W^2 \\times H^1$$\n"
      ]
    },
    {
      "cell_type": "code",
      "execution_count": 17,
      "id": "21fab65a-f968-421e-80fa-86cb280685c6",
      "metadata": {
        "id": "21fab65a-f968-421e-80fa-86cb280685c6"
      },
      "outputs": [],
      "source": [
        "## layer 1 weights\n",
        "W1 = tf.Variable([[0.2, 0.15],\n",
        "                     [0.5, 0.6]], dtype=tf.float32)\n",
        "## layer 1 bias\n",
        "B1 = tf.Variable([[0.1],\n",
        "                [0.25]], dtype=tf.float32)"
      ]
    },
    {
      "cell_type": "code",
      "execution_count": 18,
      "id": "0f3cc3e1-574a-47dc-84c4-d66bf18b35bd",
      "metadata": {
        "id": "0f3cc3e1-574a-47dc-84c4-d66bf18b35bd"
      },
      "outputs": [],
      "source": [
        "## layer 2 weights\n",
        "W2 = tf.Variable([[0.3, 0.2]], dtype=tf.float32)\n",
        "#bias\n",
        "B2 = tf.Variable([0.4], dtype=tf.float32)"
      ]
    },
    {
      "cell_type": "code",
      "execution_count": 19,
      "id": "095a917a-2901-4dd5-9ca2-80c0d997a9ec",
      "metadata": {
        "id": "095a917a-2901-4dd5-9ca2-80c0d997a9ec"
      },
      "outputs": [],
      "source": [
        "## data\n",
        "X = tf.constant([[x1,x2]], dtype=tf.float32)"
      ]
    },
    {
      "cell_type": "code",
      "execution_count": 20,
      "id": "00f72506-52a9-43d5-9a06-5ebb270891bf",
      "metadata": {
        "colab": {
          "base_uri": "https://localhost:8080/"
        },
        "id": "00f72506-52a9-43d5-9a06-5ebb270891bf",
        "outputId": "120b21c0-26d5-4b20-c0a3-7da2215f83e4"
      },
      "outputs": [
        {
          "output_type": "stream",
          "name": "stdout",
          "text": [
            "tf.Tensor(\n",
            "[[0.47511354]\n",
            " [0.39686295]], shape=(2, 1), dtype=float32)\n"
          ]
        }
      ],
      "source": [
        "## forward pass layer 1\n",
        "Z1 = tf.matmul(W1, tf.transpose(X)) + B1\n",
        "H1 = tf.math.sigmoid(Z1)\n",
        "print(H1)"
      ]
    },
    {
      "cell_type": "code",
      "execution_count": 21,
      "id": "028e2e88-6417-47a1-9cee-ddb4f2b874f8",
      "metadata": {
        "id": "028e2e88-6417-47a1-9cee-ddb4f2b874f8"
      },
      "outputs": [],
      "source": [
        "## forward pass layer 2\n",
        "Z2 = tf.matmul(W2,H1)+B2"
      ]
    },
    {
      "cell_type": "code",
      "execution_count": 22,
      "id": "2e00bbaa-8b6f-4e6a-b43d-fc0a851e7739",
      "metadata": {
        "colab": {
          "base_uri": "https://localhost:8080/"
        },
        "id": "2e00bbaa-8b6f-4e6a-b43d-fc0a851e7739",
        "outputId": "a52c07f1-832e-44c4-efdc-8d94d8c5b05c"
      },
      "outputs": [
        {
          "output_type": "execute_result",
          "data": {
            "text/plain": [
              "<tf.Tensor: shape=(1, 1), dtype=float32, numpy=array([[0.62190664]], dtype=float32)>"
            ]
          },
          "metadata": {},
          "execution_count": 22
        }
      ],
      "source": [
        "Z2"
      ]
    },
    {
      "cell_type": "code",
      "execution_count": 23,
      "id": "5ffd39a5-e9eb-47b5-9ac7-925c16acd3ec",
      "metadata": {
        "colab": {
          "base_uri": "https://localhost:8080/"
        },
        "id": "5ffd39a5-e9eb-47b5-9ac7-925c16acd3ec",
        "outputId": "9f1d5f7f-0945-4742-9d32-a487e55d0702"
      },
      "outputs": [
        {
          "output_type": "stream",
          "name": "stdout",
          "text": [
            "[[72.38514]]\n"
          ]
        }
      ],
      "source": [
        "y_pred = Z2.numpy()\n",
        "loss = 0.5*(y_true-y_pred)**2\n",
        "print(loss)"
      ]
    },
    {
      "cell_type": "markdown",
      "id": "8d35c31e-38e1-4c4f-aae9-6862e38063a8",
      "metadata": {
        "id": "8d35c31e-38e1-4c4f-aae9-6862e38063a8"
      },
      "source": [
        "## Part5: Random Weight Initialization\n",
        "\n",
        "![](multiple_neurons.png)"
      ]
    },
    {
      "cell_type": "code",
      "execution_count": 24,
      "id": "d4f13145-94d3-40c3-a010-b5085660bfad",
      "metadata": {
        "id": "d4f13145-94d3-40c3-a010-b5085660bfad"
      },
      "outputs": [],
      "source": [
        "def random_init_params():\n",
        "    w1 = tf.Variable(tf.random.uniform((2, 2)))\n",
        "    b1 = tf.Variable(tf.random.uniform((1, 2)))\n",
        "    w2 = tf.Variable(tf.random.uniform((2, 1)))\n",
        "    b2 = tf.Variable(tf.random.uniform((1, 1)))\n",
        "    return w1,b1,w2,b2"
      ]
    },
    {
      "cell_type": "code",
      "execution_count": 25,
      "id": "d62f7eab-49b0-4594-b5b4-37e6088c9a3b",
      "metadata": {
        "id": "d62f7eab-49b0-4594-b5b4-37e6088c9a3b"
      },
      "outputs": [],
      "source": [
        "x = tf.constant([[x1,x2]], dtype=tf.float32)\n",
        "y = Y[0]\n",
        "w1,b1,w2,b2 = random_init_params()"
      ]
    },
    {
      "cell_type": "code",
      "execution_count": 26,
      "id": "27c5870a-6e1f-41e7-a90b-5fa693b81df7",
      "metadata": {
        "colab": {
          "base_uri": "https://localhost:8080/"
        },
        "id": "27c5870a-6e1f-41e7-a90b-5fa693b81df7",
        "outputId": "d87df86f-fb43-42f6-876c-c0973c6e9256"
      },
      "outputs": [
        {
          "output_type": "stream",
          "name": "stdout",
          "text": [
            " the initial 1st layer weights are:\n",
            " [[0.52523744 0.83814704]\n",
            " [0.65423536 0.68385506]]\n",
            "--------------------------------------------------\n",
            " the initial 2nd layer weights are:\n",
            " [[0.55842495]\n",
            " [0.8627372 ]]\n",
            "--------------------------------------------------\n",
            " the initial 1st layer bias are:\n",
            " [[0.90821326 0.42807543]]\n",
            "--------------------------------------------------\n",
            " the initial 2nd layer bias are:\n",
            " [[0.45185268]]\n"
          ]
        }
      ],
      "source": [
        "print(\" the initial 1st layer weights are:\\n\",w1.numpy())\n",
        "print(\"--------------------------------------------------\")\n",
        "print(\" the initial 2nd layer weights are:\\n\",w2.numpy())\n",
        "print(\"--------------------------------------------------\")\n",
        "print(\" the initial 1st layer bias are:\\n\",b1.numpy())\n",
        "print(\"--------------------------------------------------\")\n",
        "print(\" the initial 2nd layer bias are:\\n\",b2.numpy())"
      ]
    },
    {
      "cell_type": "code",
      "execution_count": 27,
      "id": "ab9abe7a-f3d9-49bb-be50-bb38a51a1700",
      "metadata": {
        "id": "ab9abe7a-f3d9-49bb-be50-bb38a51a1700"
      },
      "outputs": [],
      "source": [
        "def forward_prop(x, w1, b1, w2, b2):\n",
        "    z1 = tf.matmul(x,w1) + b1\n",
        "    h1 = tf.math.sigmoid(z1)\n",
        "    z2 = tf.matmul(h1,w2) + b2\n",
        "    h2 = z2\n",
        "    return h2"
      ]
    },
    {
      "cell_type": "code",
      "execution_count": 28,
      "id": "f29e7996-476d-429d-9af4-59205bf21db1",
      "metadata": {
        "colab": {
          "base_uri": "https://localhost:8080/"
        },
        "id": "f29e7996-476d-429d-9af4-59205bf21db1",
        "outputId": "15007f56-ffb0-436e-bce9-4de215b6af8b"
      },
      "outputs": [
        {
          "output_type": "stream",
          "name": "stdout",
          "text": [
            "The MSE error is tf.Tensor([[66.82665]], shape=(1, 1), dtype=float32)\n"
          ]
        }
      ],
      "source": [
        "y_pred = forward_prop(x, w1, b1, w2, b2)\n",
        "#loss\n",
        "L = 0.5*(y - y_pred)**2\n",
        "print(\"The MSE error is\",L)"
      ]
    },
    {
      "cell_type": "markdown",
      "id": "844f9c21-ff86-4767-8d91-1d6a399789c1",
      "metadata": {
        "id": "844f9c21-ff86-4767-8d91-1d6a399789c1"
      },
      "source": [
        "## Part6: Backpropagation\n",
        "\n",
        "Find the value of x that minimises $y = x^2+4x$\n",
        "\n",
        "Gradient descent update equation\n",
        "\n",
        "$x_{new} := x_{old}-\\eta\\frac{dy}{dx}$"
      ]
    },
    {
      "cell_type": "code",
      "execution_count": 29,
      "id": "423c86c8-bf03-495e-8972-e69247822584",
      "metadata": {
        "id": "423c86c8-bf03-495e-8972-e69247822584"
      },
      "outputs": [],
      "source": [
        "x = tf.Variable(0.0) ## add gradient tape\n",
        "lr = eta = 0.1"
      ]
    },
    {
      "cell_type": "code",
      "execution_count": 30,
      "id": "98fe645c-fb0e-4257-84e0-9a47b3a81b4d",
      "metadata": {
        "id": "98fe645c-fb0e-4257-84e0-9a47b3a81b4d"
      },
      "outputs": [],
      "source": [
        "with tf.GradientTape() as tape:\n",
        "    y = x**2+4*x\n",
        "grad = tape.gradient(y,x) ## dy/dx"
      ]
    },
    {
      "cell_type": "code",
      "execution_count": 31,
      "id": "529b973d-6a0d-424b-9b19-3c44b3e05672",
      "metadata": {
        "colab": {
          "base_uri": "https://localhost:8080/"
        },
        "id": "529b973d-6a0d-424b-9b19-3c44b3e05672",
        "outputId": "1af1f86c-867c-4021-909a-fda91ef2c745"
      },
      "outputs": [
        {
          "output_type": "execute_result",
          "data": {
            "text/plain": [
              "4.0"
            ]
          },
          "metadata": {},
          "execution_count": 31
        }
      ],
      "source": [
        "grad.numpy() #dy/dx = 2x+4, x=0 => dy/dx = 4"
      ]
    },
    {
      "cell_type": "code",
      "execution_count": 32,
      "id": "7f9b9642-3290-41a6-a4ce-eeb20b412594",
      "metadata": {
        "colab": {
          "base_uri": "https://localhost:8080/"
        },
        "id": "7f9b9642-3290-41a6-a4ce-eeb20b412594",
        "outputId": "e17117b9-2189-4fe9-8e5d-67d9a76e8851"
      },
      "outputs": [
        {
          "output_type": "execute_result",
          "data": {
            "text/plain": [
              "<tf.Variable 'UnreadVariable' shape=() dtype=float32, numpy=-0.4>"
            ]
          },
          "metadata": {},
          "execution_count": 32
        }
      ],
      "source": [
        "x.assign_sub(lr*grad) ## x_new = x_old -lr*dy/dx"
      ]
    },
    {
      "cell_type": "code",
      "execution_count": 33,
      "id": "76ffc91d-4154-40d4-8c8e-f46a76c3847f",
      "metadata": {
        "colab": {
          "base_uri": "https://localhost:8080/"
        },
        "id": "76ffc91d-4154-40d4-8c8e-f46a76c3847f",
        "outputId": "231a0cb3-f604-49fb-9abc-52ea93e1e56e"
      },
      "outputs": [
        {
          "output_type": "execute_result",
          "data": {
            "text/plain": [
              "-0.4"
            ]
          },
          "metadata": {},
          "execution_count": 33
        }
      ],
      "source": [
        "x.numpy()"
      ]
    },
    {
      "cell_type": "code",
      "execution_count": 34,
      "id": "ca154ab8-599c-4ca6-8254-ad4f7fe8a472",
      "metadata": {
        "colab": {
          "base_uri": "https://localhost:8080/"
        },
        "id": "ca154ab8-599c-4ca6-8254-ad4f7fe8a472",
        "outputId": "f31da458-f0f4-4c5d-8a4e-d49f683d36ff"
      },
      "outputs": [
        {
          "output_type": "stream",
          "name": "stdout",
          "text": [
            "-0.4\n",
            "-0.72\n",
            "-0.9760001\n",
            "-1.1808001\n",
            "-1.34464\n",
            "-1.4757121\n",
            "-1.5805696\n",
            "-1.6644557\n",
            "-1.7315645\n",
            "-1.7852516\n"
          ]
        }
      ],
      "source": [
        "## full loop\n",
        "x = tf.Variable(0.0) ## add gradient tape\n",
        "lr = eta = 0.1\n",
        "for i in range(10):\n",
        "    with tf.GradientTape() as tape:\n",
        "        y = x**2+4*x\n",
        "    grad = tape.gradient(y,x)\n",
        "    x.assign_sub(lr*grad)\n",
        "    print(x.numpy())"
      ]
    },
    {
      "cell_type": "markdown",
      "id": "b25dc73f-f2e2-47e9-be8a-495ca52658e3",
      "metadata": {
        "id": "b25dc73f-f2e2-47e9-be8a-495ca52658e3"
      },
      "source": [
        "\n",
        "![](gradients.png)"
      ]
    },
    {
      "cell_type": "code",
      "execution_count": 35,
      "id": "6797e506-2b65-4a8d-8f5c-24defd7411a8",
      "metadata": {
        "id": "6797e506-2b65-4a8d-8f5c-24defd7411a8"
      },
      "outputs": [],
      "source": [
        "x = tf.constant([[x1,x2]], dtype=tf.float32)\n",
        "y = Y[0]\n",
        "\n",
        "def random_init_params():\n",
        "    w1 = tf.Variable(tf.random.uniform((2, 2)))\n",
        "    b1 = tf.Variable(tf.random.uniform((1, 2)))\n",
        "    w2 = tf.Variable(tf.random.uniform((2, 1)))\n",
        "    b2 = tf.Variable(tf.random.uniform((1, 1)))\n",
        "    return w1,b1,w2,b2\n",
        "\n",
        "def forward_prop(x, w1, b1, w2, b2):\n",
        "    z1 = tf.matmul(x,w1) + b1\n",
        "    h1 = tf.math.sigmoid(z1)\n",
        "    z2 = tf.matmul(h1,w2) + b2\n",
        "    h2 = z2\n",
        "    return h2"
      ]
    },
    {
      "cell_type": "code",
      "execution_count": 36,
      "id": "b0dd8c3e-473b-4a06-be20-b4230d0fc027",
      "metadata": {
        "id": "b0dd8c3e-473b-4a06-be20-b4230d0fc027"
      },
      "outputs": [],
      "source": [
        "w1,b1,w2,b2 = random_init_params()"
      ]
    },
    {
      "cell_type": "code",
      "execution_count": 37,
      "id": "66195d4a-d966-4ecd-977f-678177f8b6fe",
      "metadata": {
        "id": "66195d4a-d966-4ecd-977f-678177f8b6fe"
      },
      "outputs": [],
      "source": [
        "with tf.GradientTape() as tape:\n",
        "    y_pred = forward_prop(x,w1,b1,w2,b2)\n",
        "    loss = 0.5*(y-y_pred)**2"
      ]
    },
    {
      "cell_type": "code",
      "execution_count": 38,
      "id": "4a83bfbc-f1ba-4ca9-bfb4-cb8b5aa6fd26",
      "metadata": {
        "id": "4a83bfbc-f1ba-4ca9-bfb4-cb8b5aa6fd26"
      },
      "outputs": [],
      "source": [
        "gw1, gb1, gw2, gb2 = tape.gradient(loss, [w1, b1, w2, b2])"
      ]
    },
    {
      "cell_type": "code",
      "execution_count": 39,
      "id": "c1e63266-99eb-4650-9034-0ce23e0beb12",
      "metadata": {
        "colab": {
          "base_uri": "https://localhost:8080/"
        },
        "id": "c1e63266-99eb-4650-9034-0ce23e0beb12",
        "outputId": "0de25a45-9312-4746-e057-4a1b0ed888bf"
      },
      "outputs": [
        {
          "output_type": "execute_result",
          "data": {
            "text/plain": [
              "<tf.Tensor: shape=(2, 2), dtype=float32, numpy=\n",
              "array([[0.65135807, 0.8959445 ],\n",
              "       [1.1326016 , 1.557896  ]], dtype=float32)>"
            ]
          },
          "metadata": {},
          "execution_count": 39
        }
      ],
      "source": [
        "gw1"
      ]
    },
    {
      "cell_type": "code",
      "execution_count": 40,
      "id": "b202f6b6-99e4-457e-8c9e-3abb11840bbc",
      "metadata": {
        "colab": {
          "base_uri": "https://localhost:8080/"
        },
        "id": "b202f6b6-99e4-457e-8c9e-3abb11840bbc",
        "outputId": "e2b36882-390a-45e7-9ebc-794e3164ec2b"
      },
      "outputs": [
        {
          "output_type": "execute_result",
          "data": {
            "text/plain": [
              "<tf.Tensor: shape=(1, 2), dtype=float32, numpy=array([[-1.5036048, -2.0682118]], dtype=float32)>"
            ]
          },
          "metadata": {},
          "execution_count": 40
        }
      ],
      "source": [
        "gb1"
      ]
    },
    {
      "cell_type": "code",
      "execution_count": 41,
      "id": "95600402-76fa-44b5-9d05-9e71c4ebbb8c",
      "metadata": {
        "colab": {
          "base_uri": "https://localhost:8080/"
        },
        "id": "95600402-76fa-44b5-9d05-9e71c4ebbb8c",
        "outputId": "6dc2c4ac-2306-4972-cb4d-e814eeda6567"
      },
      "outputs": [
        {
          "output_type": "execute_result",
          "data": {
            "text/plain": [
              "<tf.Tensor: shape=(2, 1), dtype=float32, numpy=\n",
              "array([[-5.101526],\n",
              "       [-5.214977]], dtype=float32)>"
            ]
          },
          "metadata": {},
          "execution_count": 41
        }
      ],
      "source": [
        "gw2"
      ]
    },
    {
      "cell_type": "code",
      "execution_count": 42,
      "id": "880ad697-3224-4527-ad47-84eb6ae09815",
      "metadata": {
        "colab": {
          "base_uri": "https://localhost:8080/"
        },
        "id": "880ad697-3224-4527-ad47-84eb6ae09815",
        "outputId": "f6353709-eb95-41d4-8211-49b7596b6604"
      },
      "outputs": [
        {
          "output_type": "execute_result",
          "data": {
            "text/plain": [
              "<tf.Tensor: shape=(1, 1), dtype=float32, numpy=array([[-11.598295]], dtype=float32)>"
            ]
          },
          "metadata": {},
          "execution_count": 42
        }
      ],
      "source": [
        "gb2"
      ]
    },
    {
      "cell_type": "code",
      "execution_count": 43,
      "id": "1d34744a-69df-45c8-a158-00c128f42a59",
      "metadata": {
        "colab": {
          "base_uri": "https://localhost:8080/"
        },
        "id": "1d34744a-69df-45c8-a158-00c128f42a59",
        "outputId": "0b7faa08-84a8-4f36-8413-10fb5f06f481"
      },
      "outputs": [
        {
          "output_type": "stream",
          "name": "stdout",
          "text": [
            "Value of w1 before gradient update is <tf.Variable 'Variable:0' shape=(2, 2) dtype=float32, numpy=\n",
            "array([[0.9614403 , 0.6300657 ],\n",
            "       [0.42678213, 0.06179011]], dtype=float32)>\n",
            "Value of w1 after gradient update is <tf.Variable 'Variable:0' shape=(2, 2) dtype=float32, numpy=\n",
            "array([[0.9549267 , 0.6211062 ],\n",
            "       [0.41545612, 0.04621115]], dtype=float32)>\n"
          ]
        }
      ],
      "source": [
        "lr=0.01\n",
        "print(f\"Value of w1 before gradient update is {w1}\")\n",
        "w1.assign_sub(lr*gw1)\n",
        "print(f\"Value of w1 after gradient update is {w1}\")"
      ]
    },
    {
      "cell_type": "code",
      "execution_count": 44,
      "id": "fe8bb25d-b7aa-4bd7-9765-28731e5944d3",
      "metadata": {
        "colab": {
          "base_uri": "https://localhost:8080/"
        },
        "id": "fe8bb25d-b7aa-4bd7-9765-28731e5944d3",
        "outputId": "9e5f9327-e969-4e1a-ce22-2dd8973bd96f"
      },
      "outputs": [
        {
          "output_type": "stream",
          "name": "stdout",
          "text": [
            "Value of b1 before gradient update is <tf.Variable 'Variable:0' shape=(1, 2) dtype=float32, numpy=array([[0.4962052 , 0.11733341]], dtype=float32)>\n",
            "Value of w1 after gradient update is <tf.Variable 'Variable:0' shape=(1, 2) dtype=float32, numpy=array([[0.51124126, 0.13801552]], dtype=float32)>\n"
          ]
        }
      ],
      "source": [
        "lr=0.01\n",
        "print(f\"Value of b1 before gradient update is {b1}\")\n",
        "b1.assign_sub(lr*gb1)\n",
        "print(f\"Value of w1 after gradient update is {b1}\")"
      ]
    },
    {
      "cell_type": "code",
      "execution_count": 45,
      "id": "809b9b9e-acea-48dd-8386-c40eb3b20a8e",
      "metadata": {
        "id": "809b9b9e-acea-48dd-8386-c40eb3b20a8e"
      },
      "outputs": [],
      "source": [
        "def train(x, y, w1, b1, w2, b2):\n",
        "    y_true = y\n",
        "    with tf.GradientTape() as g:\n",
        "        y_pred = forward_prop(x, w1, b1, w2, b2)\n",
        "\n",
        "        # loss\n",
        "        loss = 0.5*(y_true - y_pred)** 2\n",
        "\n",
        "    #Gradient calculation\n",
        "    print(\"**************************************************\")\n",
        "    print(\"GRADIENTS\")\n",
        "    print(\"**************************************************\")\n",
        "    gw1, gb1, gw2, gb2 = g.gradient(loss, [w1, b1, w2, b2])\n",
        "    print(\" the gradient for 1st layer weights are:\\n\",gw1.numpy())\n",
        "    print(\"--------------------------------------------------\")\n",
        "    print(\" the gradient for 2nd layer weights are:\\n\",gw2.numpy())\n",
        "    print(\"--------------------------------------------------\")\n",
        "    print(\" the gradient for 1st layer bias are:\\n\",gb1.numpy())\n",
        "    print(\"--------------------------------------------------\")\n",
        "    print(\" the gradient for 2nd layer bias are:\\n\",gb2.numpy())\n",
        "    print(\"--------------------------------------------------\")\n",
        "\n",
        "    # Gradient descent:\n",
        "    lr=0.2\n",
        "    w1.assign_sub(lr*gw1)\n",
        "    b1.assign_sub(lr*gb1)\n",
        "    w2.assign_sub(lr*gw2)\n",
        "    b2.assign_sub(lr*gb2)\n",
        "    print(\"**************************************************\")\n",
        "    print(\"NEW UPDATES\")\n",
        "    print(\"**************************************************\")\n",
        "    print(\" the updated 1st layer weights are:\\n\",w1.numpy())\n",
        "    print(\"--------------------------------------------------\")\n",
        "    print(\" the updated 2nd layer weights are:\\n\",w2.numpy())\n",
        "    print(\"--------------------------------------------------\")\n",
        "    print(\" the updated 1st layer bias are:\\n\",b1.numpy())\n",
        "    print(\"--------------------------------------------------\")\n",
        "    print(\" the updated 2nd layer bias are:\\n\",b2.numpy())\n",
        "\n",
        "\n",
        "    return w1, b1, w2, b2,loss"
      ]
    },
    {
      "cell_type": "code",
      "execution_count": 46,
      "id": "8c176262-1ea8-447b-b714-c30041457cd7",
      "metadata": {
        "colab": {
          "base_uri": "https://localhost:8080/"
        },
        "id": "8c176262-1ea8-447b-b714-c30041457cd7",
        "outputId": "fa62abe9-eeab-4925-8259-4cb189e8c4ca"
      },
      "outputs": [
        {
          "output_type": "stream",
          "name": "stdout",
          "text": [
            "**************************************************\n",
            "GRADIENTS\n",
            "**************************************************\n",
            " the gradient for 1st layer weights are:\n",
            " [[0.948463  1.1721466]\n",
            " [1.649217  2.0381649]]\n",
            "--------------------------------------------------\n",
            " the gradient for 2nd layer weights are:\n",
            " [[-4.957953 ]\n",
            " [-4.8140326]]\n",
            "--------------------------------------------------\n",
            " the gradient for 1st layer bias are:\n",
            " [[-2.1894464 -2.7058008]]\n",
            "--------------------------------------------------\n",
            " the gradient for 2nd layer bias are:\n",
            " [[-11.030389]]\n",
            "--------------------------------------------------\n",
            "**************************************************\n",
            "NEW UPDATES\n",
            "**************************************************\n",
            " the updated 1st layer weights are:\n",
            " [[ 0.23502232  0.52375096]\n",
            " [ 0.5141939  -0.39286116]]\n",
            "--------------------------------------------------\n",
            " the updated 2nd layer weights are:\n",
            " [[1.7937484]\n",
            " [1.9601431]]\n",
            "--------------------------------------------------\n",
            " the updated 1st layer bias are:\n",
            " [[1.0548854 0.6250804]]\n",
            "--------------------------------------------------\n",
            " the updated 2nd layer bias are:\n",
            " [[3.0338213]]\n"
          ]
        }
      ],
      "source": [
        "w1,b1,w2,b2 = random_init_params()\n",
        "w1, b1, w2, b2,loss = train(x, y, w1, b1, w2, b2)"
      ]
    },
    {
      "cell_type": "code",
      "execution_count": 46,
      "id": "37c8d3c6-de91-4a19-926a-6bd7b85720b0",
      "metadata": {
        "id": "37c8d3c6-de91-4a19-926a-6bd7b85720b0"
      },
      "outputs": [],
      "source": []
    }
  ],
  "metadata": {
    "kernelspec": {
      "display_name": "Python 3",
      "language": "python",
      "name": "python3"
    },
    "language_info": {
      "codemirror_mode": {
        "name": "ipython",
        "version": 3
      },
      "file_extension": ".py",
      "mimetype": "text/x-python",
      "name": "python",
      "nbconvert_exporter": "python",
      "pygments_lexer": "ipython3",
      "version": "3.9.9"
    },
    "colab": {
      "provenance": []
    }
  },
  "nbformat": 4,
  "nbformat_minor": 5
}